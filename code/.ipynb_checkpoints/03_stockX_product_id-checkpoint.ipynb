{
 "cells": [
  {
   "cell_type": "markdown",
   "metadata": {},
   "source": [
    "## Objective"
   ]
  },
  {
   "cell_type": "markdown",
   "metadata": {},
   "source": [
    "The objective of this notebook is retrieve the unique product ID of each shoe. We use regex to search for the product ID in the pagesource text and append to a list of product IDs."
   ]
  },
  {
   "cell_type": "code",
   "execution_count": 1,
   "metadata": {},
   "outputs": [],
   "source": [
    "import pandas as pd\n",
    "import requests\n",
    "import regex as re\n",
    "import time\n",
    "import csv"
   ]
  },
  {
   "cell_type": "markdown",
   "metadata": {},
   "source": [
    "## Import Jordan Sources CSV"
   ]
  },
  {
   "cell_type": "code",
   "execution_count": 2,
   "metadata": {},
   "outputs": [],
   "source": [
    "df = pd.read_csv('../data/jordan_sources.csv')"
   ]
  },
  {
   "cell_type": "code",
   "execution_count": 3,
   "metadata": {},
   "outputs": [],
   "source": [
    "df.drop(columns='Unnamed: 0', inplace=True)"
   ]
  },
  {
   "cell_type": "code",
   "execution_count": 4,
   "metadata": {},
   "outputs": [
    {
     "data": {
      "text/html": [
       "<div>\n",
       "<style scoped>\n",
       "    .dataframe tbody tr th:only-of-type {\n",
       "        vertical-align: middle;\n",
       "    }\n",
       "\n",
       "    .dataframe tbody tr th {\n",
       "        vertical-align: top;\n",
       "    }\n",
       "\n",
       "    .dataframe thead th {\n",
       "        text-align: right;\n",
       "    }\n",
       "</style>\n",
       "<table border=\"1\" class=\"dataframe\">\n",
       "  <thead>\n",
       "    <tr style=\"text-align: right;\">\n",
       "      <th></th>\n",
       "      <th>extension</th>\n",
       "      <th>page_source</th>\n",
       "    </tr>\n",
       "  </thead>\n",
       "  <tbody>\n",
       "    <tr>\n",
       "      <th>0</th>\n",
       "      <td>/air-jordan-11-retro-concord-2018</td>\n",
       "      <td>&lt;!DOCTYPE html&gt;\\n&lt;html lang=\"en\"&gt;\\n&lt;head&gt;\\n&lt;ti...</td>\n",
       "    </tr>\n",
       "    <tr>\n",
       "      <th>1</th>\n",
       "      <td>/air-jordan-1-retro-high-chicago-crystal</td>\n",
       "      <td>&lt;!DOCTYPE html&gt;\\n&lt;html lang=\"en\"&gt;\\n&lt;head&gt;\\n&lt;ti...</td>\n",
       "    </tr>\n",
       "    <tr>\n",
       "      <th>2</th>\n",
       "      <td>/air-jordan-1-retro-high-rookie-of-the-year</td>\n",
       "      <td>&lt;!DOCTYPE html&gt;\\n&lt;html lang=\"en\"&gt;\\n&lt;head&gt;\\n&lt;ti...</td>\n",
       "    </tr>\n",
       "    <tr>\n",
       "      <th>3</th>\n",
       "      <td>/air-jordan-1-retro-high-off-white-university-...</td>\n",
       "      <td>&lt;!DOCTYPE html&gt;\\n&lt;html lang=\"en\"&gt;\\n&lt;head&gt;\\n&lt;ti...</td>\n",
       "    </tr>\n",
       "    <tr>\n",
       "      <th>4</th>\n",
       "      <td>/air-jordan-1-retro-high-shadow-2018</td>\n",
       "      <td>&lt;!DOCTYPE html&gt;\\n&lt;html lang=\"en\"&gt;\\n&lt;head&gt;\\n&lt;ti...</td>\n",
       "    </tr>\n",
       "  </tbody>\n",
       "</table>\n",
       "</div>"
      ],
      "text/plain": [
       "                                           extension  \\\n",
       "0                  /air-jordan-11-retro-concord-2018   \n",
       "1           /air-jordan-1-retro-high-chicago-crystal   \n",
       "2        /air-jordan-1-retro-high-rookie-of-the-year   \n",
       "3  /air-jordan-1-retro-high-off-white-university-...   \n",
       "4               /air-jordan-1-retro-high-shadow-2018   \n",
       "\n",
       "                                         page_source  \n",
       "0  <!DOCTYPE html>\\n<html lang=\"en\">\\n<head>\\n<ti...  \n",
       "1  <!DOCTYPE html>\\n<html lang=\"en\">\\n<head>\\n<ti...  \n",
       "2  <!DOCTYPE html>\\n<html lang=\"en\">\\n<head>\\n<ti...  \n",
       "3  <!DOCTYPE html>\\n<html lang=\"en\">\\n<head>\\n<ti...  \n",
       "4  <!DOCTYPE html>\\n<html lang=\"en\">\\n<head>\\n<ti...  "
      ]
     },
     "execution_count": 4,
     "metadata": {},
     "output_type": "execute_result"
    }
   ],
   "source": [
    "df.head()"
   ]
  },
  {
   "cell_type": "markdown",
   "metadata": {},
   "source": [
    "## Retrieve Product Id"
   ]
  },
  {
   "cell_type": "markdown",
   "metadata": {},
   "source": [
    "Define a function using the text page source, use regex to retrieve the unique product id of each shoe. Append the successful retrievals to an empty product ids list and the index of shoes that gave errors to an empty error list. Then add the list as a column to the shoe dataframe."
   ]
  },
  {
   "cell_type": "code",
   "execution_count": 5,
   "metadata": {},
   "outputs": [],
   "source": [
    "def retrieveProductId(df):\n",
    "    \n",
    "    product_ids = []\n",
    "    error_index = []\n",
    "\n",
    "    for i in range(0,len(df)):\n",
    "        try:\n",
    "            product_id = re.findall('\"productUuid\":\"([a-z0-9-]+)\"', df['page_source'].loc[i])[0]\n",
    "            product_ids.append(product_id)\n",
    "        except:\n",
    "            product_ids.append(\"no_id\")\n",
    "            error_index.append(i)\n",
    "    \n",
    "    product_ids_se = pd.Series(product_ids)\n",
    "    df['product_id'] = product_ids_se\n",
    "    return error_index"
   ]
  },
  {
   "cell_type": "markdown",
   "metadata": {},
   "source": [
    "## Retrieve Product Id on Errors"
   ]
  },
  {
   "cell_type": "markdown",
   "metadata": {},
   "source": [
    "Define a function using the index of the rows that gave errors, re-retrieve the page sources of the shoes, use regex to retrieve the unique product id and reassign the values of the product id to the shoe dataframe."
   ]
  },
  {
   "cell_type": "code",
   "execution_count": 6,
   "metadata": {},
   "outputs": [],
   "source": [
    "def retrieveErrorIds(error_index):\n",
    "\n",
    "    for i in error_index:\n",
    "        slug = df['slug'].loc[i]\n",
    "        url = f'https://stockx.com{slug}'\n",
    "        response = requests.get(url)\n",
    "        if response.status_code == 200:\n",
    "            page_source = response.text\n",
    "            if page_source != '':\n",
    "                product_id = re.findall('\"productUuid\":\"([a-z0-9-]+)\"', page_source)[0]\n",
    "                df['product_id'].loc[i] = product_id\n",
    "            else:\n",
    "                df.drop(i, inplace=True)\n",
    "        else:\n",
    "            print(f'Index({i}) {response.status_code}')"
   ]
  },
  {
   "cell_type": "markdown",
   "metadata": {},
   "source": [
    "## Drop PageSource Column"
   ]
  },
  {
   "cell_type": "code",
   "execution_count": 7,
   "metadata": {},
   "outputs": [],
   "source": [
    "df.drop(columns='page_source', inplace=True)"
   ]
  },
  {
   "cell_type": "markdown",
   "metadata": {},
   "source": [
    "## Save out the DataFrame"
   ]
  },
  {
   "cell_type": "code",
   "execution_count": 17,
   "metadata": {},
   "outputs": [],
   "source": [
    "# df.to_csv('../data/jordan_ids.csv')"
   ]
  }
 ],
 "metadata": {
  "kernelspec": {
   "display_name": "Python 3",
   "language": "python",
   "name": "python3"
  },
  "language_info": {
   "codemirror_mode": {
    "name": "ipython",
    "version": 3
   },
   "file_extension": ".py",
   "mimetype": "text/x-python",
   "name": "python",
   "nbconvert_exporter": "python",
   "pygments_lexer": "ipython3",
   "version": "3.6.8"
  }
 },
 "nbformat": 4,
 "nbformat_minor": 2
}
