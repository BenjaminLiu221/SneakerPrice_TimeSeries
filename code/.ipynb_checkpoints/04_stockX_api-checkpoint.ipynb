{
 "cells": [
  {
   "cell_type": "markdown",
   "metadata": {},
   "source": [
    "## Objective"
   ]
  },
  {
   "cell_type": "markdown",
   "metadata": {},
   "source": [
    "The objective of this notebook is to retrieve the historic sales data of all shoes. We use the StockX api and pass in parameters to get requests and retrieve the data as json files."
   ]
  },
  {
   "cell_type": "code",
   "execution_count": 1,
   "metadata": {},
   "outputs": [],
   "source": [
    "import pandas as pd\n",
    "import requests\n",
    "import time\n",
    "import csv\n",
    "import json\n",
    "import psycopg2 as pg2\n",
    "from psycopg2.extras import RealDictCursor, Json\n",
    "from sqlalchemy import create_engine\n",
    "\n",
    "%run sql_test.py"
   ]
  },
  {
   "cell_type": "markdown",
   "metadata": {},
   "source": [
    "## Import Jordans Product Ids"
   ]
  },
  {
   "cell_type": "code",
   "execution_count": 2,
   "metadata": {},
   "outputs": [],
   "source": [
    "df = pd.read_csv('../data/jordan_ids.csv')"
   ]
  },
  {
   "cell_type": "code",
   "execution_count": 3,
   "metadata": {},
   "outputs": [],
   "source": [
    "df.drop(columns='Unnamed: 0', inplace=True)"
   ]
  },
  {
   "cell_type": "markdown",
   "metadata": {},
   "source": [
    "## Function for stockX api to retrieve historic sales data as json"
   ]
  },
  {
   "cell_type": "markdown",
   "metadata": {},
   "source": [
    "The functions below query requests for historic sales data using the StockX api along with the unique ID of each shoe with sleep of 1 second per request and 10 sec per shoe ID and saves data as json files. The function returns false when there are no more sales to query, stops iterating through the pages and stops requesting. "
   ]
  },
  {
   "cell_type": "code",
   "execution_count": 4,
   "metadata": {},
   "outputs": [],
   "source": [
    "def stockxApiQuery(product_id, page, limit=1000, order='DESC'):\n",
    "    url = f'https://stockx.com/api/products/{product_id}/activity?state=480&currency=USD&limit={limit}&page={page}&sort=createdAt&order={order}'\n",
    "    headers = {'User-agent': 'Ben01'}\n",
    "    response = requests.get(url, headers=headers)\n",
    "    the_json = response.json()\n",
    "    if the_json['ProductActivity']:\n",
    "        now = f'{time.time():.0f}'\n",
    "        with open(f'../data/raw_json/{product_id}_{now}.json', 'w+') as f:\n",
    "            json.dump(the_json['ProductActivity'], f)        \n",
    "        time.sleep(1)\n",
    "        return True\n",
    "    else:\n",
    "        return False"
   ]
  },
  {
   "cell_type": "code",
   "execution_count": 5,
   "metadata": {},
   "outputs": [],
   "source": [
    "def grab_all_sales(shoe_id):\n",
    "    more = 1\n",
    "    page = 1\n",
    "    while more:\n",
    "        more *= stockxApiQuery(shoe_id, page=page)\n",
    "        page += 1\n",
    "        time.sleep(1)"
   ]
  },
  {
   "cell_type": "code",
   "execution_count": 6,
   "metadata": {},
   "outputs": [],
   "source": [
    "def get_all_shoes(shoe_list):\n",
    "    for shoe_id in shoe_list:\n",
    "        grab_all_sales(shoe_id)\n",
    "        time.sleep(10)"
   ]
  },
  {
   "cell_type": "code",
   "execution_count": 7,
   "metadata": {},
   "outputs": [],
   "source": [
    "shoe_list = df['product_id']"
   ]
  },
  {
   "cell_type": "code",
   "execution_count": 8,
   "metadata": {},
   "outputs": [],
   "source": [
    "# get_all_shoes(shoe_list)"
   ]
  }
 ],
 "metadata": {
  "kernelspec": {
   "display_name": "Python 3",
   "language": "python",
   "name": "python3"
  },
  "language_info": {
   "codemirror_mode": {
    "name": "ipython",
    "version": 3
   },
   "file_extension": ".py",
   "mimetype": "text/x-python",
   "name": "python",
   "nbconvert_exporter": "python",
   "pygments_lexer": "ipython3",
   "version": "3.6.8"
  }
 },
 "nbformat": 4,
 "nbformat_minor": 2
}
